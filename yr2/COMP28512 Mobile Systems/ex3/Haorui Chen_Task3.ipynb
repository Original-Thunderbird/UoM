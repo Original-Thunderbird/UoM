{
 "cells": [
  {
   "cell_type": "markdown",
   "metadata": {},
   "source": [
    "Laboratory Task 3-----Bit-error Control"
   ]
  },
  {
   "cell_type": "markdown",
   "metadata": {},
   "source": [
    "10407315 Haorui Chen  Mar 11th 2019 "
   ]
  },
  {
   "cell_type": "markdown",
   "metadata": {},
   "source": [
    "# Part 3.1-Effect of increasing transmit power on speech quality "
   ]
  },
  {
   "cell_type": "code",
   "execution_count": null,
   "metadata": {
    "scrolled": true
   },
   "outputs": [],
   "source": [
    "! rm pesq_results.txt\n",
    "import numpy as np\n",
    "import math\n",
    "import comp28512_utils as utils\n",
    "from matplotlib import pyplot \n",
    "from scipy.io import wavfile \n",
    "from comp28512_utils import get_pesq_scores \n",
    "%matplotlib inline\n",
    "\n",
    "def produceErrAudio(power, freq, arr,y_spe):\n",
    "    Eb = power*(10**(-5))/(freq*16)\n",
    "    err = 0.5*math.erfc(math.sqrt(Eb/(10**(-11))))\n",
    "    print 'Bit-error probability when power=%fwatt'%(err)\n",
    "    res = utils.insert_bit_errors(arr,err)\n",
    "    y_res = utils.bit_array_to_numpy_array(res, dtype=y_spe.dtype)\n",
    "    name = \"power=%.4fw.wav\"%(power)\n",
    "    wavfile.write(name, Fs_spe, y_res)\n",
    "    print name\n",
    "    utils.audio_from_file(name)\n",
    "    ! ./linux_pesqmain +8000 NarrobandSpeech8k.wav $name > /dev/null\n",
    "    pesq_results = get_pesq_scores()\n",
    "    score = pesq_results[\"NarrobandSpeech8k.wav\"] [name] \n",
    "    print \"PESQ score when power = %.4fw:\"%(power), score\n",
    "\n",
    "(Fs_spe, y_spe) = wavfile.read(\"NarrobandSpeech8k.wav\"); \n",
    "print \"original audio without bit-error\"\n",
    "utils.Audio(y_spe, rate=Fs_spe,)    # play original speech\n",
    "raw = utils.numpy_array_to_bit_array(y_spe)\n",
    "produceErrAudio(1, Fs_spe, raw, y_spe)\n",
    "print \"\"\n",
    "produceErrAudio(1.35, Fs_spe, raw, y_spe)\n",
    "\n",
    "dB = []\n",
    "beP = []\n",
    "for i in range(0,20):\n",
    "    dB.append(10*math.log10(10**((i-8)/10.0)))\n",
    "    beP.append(0.5*math.erfc(math.sqrt(10**((i-8)/10.0))))\n",
    "fig, ax0 = pyplot.subplots(1)\n",
    "ax0.set_title(\"Waterfall graph for msk modulation\")\n",
    "ax0.set_xlabel(\"Eb over N0 (dB)\") ; ax0.set_ylabel(\"Bit-error probability\")\n",
    "ax0.set_yscale(\"log\")\n",
    "ax0.plot(dB,beP)\n",
    "ax0.grid(True, which='major', axis='x')\n",
    "ax0.grid(True, which='minor', axis='y')"
   ]
  },
  {
   "cell_type": "markdown",
   "metadata": {
    "collapsed": true
   },
   "source": [
    "Part 3.1 Q&A:\n",
    "\n",
    "1. Explain how the appropriate bit-error probability is calculated in Python for a transmission power of 1 watt.  \n",
    "    -Energy per bit(Eb) is get from 1 watt×(10^(-5))/(sampling freqency×16), where sampling frequency is 8kHz. With Eb, we can get bit-error probability(BeP) by 0.5×erfc(sqrt(Eb/(10^(-12)))).\n",
    "2. Show how the required graph of bit-error probability against Eb/No (in dB) is produced in Python.  \n",
    "    -Since Eb/N0 is not in dB, I  and transform x-axis into log scale.\n",
    "3. What is the bit-error probability when the transmission power is 1 watt?   \n",
    "    -This is the result of calculation in Q1, that's 3.86×10^(-5) approximately.\n",
    "4. Explain how the evenly distributed bit-errors are introduced.  \n",
    "    -In predefined insert_bit_errors, an array with its length equal to that of bit-array await to be altered, approximately (length of array)×(bit-error probility) number of 1's are uniformly distributed across the new array, eventually these two arrays are bitwise xor-ed together.\n",
    "5. What is the new bit-error probability (for 1.35 watts) and how was this calculated?  \n",
    "    -Energy per bit(Eb) is get from 1.35 watt×(10^(-5))/(sampling freqency×16), where sampling frequency is 8kHz. With Eb, we can get bit-error probability(BeP) by 0.5×erfc(sqrt(Eb/(10^(-12)))), that's 2.19×10^(-6) approximately.\n",
    "6. What is the PESQ score for the narrowband speech transmitted with 1.35 watts?  \n",
    "    -It's 4.29.\n",
    "7. How is the talk time affected?  \n",
    "    -Generally, the higher energy per bit, the lower the talk time; If the battery holds 18000 joules, then if we use power of 1watt, we get 18000s talk-time; for power of 1.34watt, we get 13333s.\n",
    "8. Explain in about one sentence how battery life and bit-error rates are connected.  \n",
    "    -Since higher energy per bit can avoid bit-error rate more effectively, the lower the bit-error rate, the lower the battery life."
   ]
  },
  {
   "cell_type": "markdown",
   "metadata": {},
   "source": [
    "# Part 3.2-Effect ofincreasing bit-error probability on narrow-band speech without FEC scheme"
   ]
  },
  {
   "cell_type": "code",
   "execution_count": null,
   "metadata": {
    "scrolled": true
   },
   "outputs": [],
   "source": [
    "! rm pesq_results.txt\n",
    "score_list_2 = []\n",
    "pos_list = [] \n",
    "for i in range(0,13):\n",
    "    pos = 10**(-5+i/4.0)\n",
    "    res = utils.insert_bit_errors(raw,pos)\n",
    "    y_res = utils.bit_array_to_numpy_array(res,y_spe.dtype)\n",
    "    name = \"2_bit_error_prob=%.6f.wav\"%(pos)\n",
    "    wavfile.write(name, Fs_spe, y_res)\n",
    "    print name\n",
    "    utils.audio_from_file(name)\n",
    "    ! ./linux_pesqmain +8000 NarrobandSpeech8k.wav $name > /dev/null\n",
    "    pesq_results = get_pesq_scores()\n",
    "    score = pesq_results[\"NarrobandSpeech8k.wav\"] [name] \n",
    "    print \"PESQ score for possibility = %.6f:\"%(pos), score\n",
    "    print \"\"\n",
    "    score_list_2.append(score)\n",
    "    pos_list.append(pos)\n",
    "# print score_list\n",
    "# print pos_list\n",
    "fig, ax0 = pyplot.subplots(1)\n",
    "ax0.set_title(\"PESQ score against beP\")\n",
    "ax0.set_xlabel(\"Bit-error prob\") ; ax0.set_ylabel(\"PESQ Score\")\n",
    "ax0.plot(pos_list,score_list_2)\n",
    "ax0.set_xscale(\"log\")\n",
    "ax0.grid(True, which='minor', axis='x')\n",
    "ax0.grid(True, which='major', axis='y')"
   ]
  },
  {
   "cell_type": "markdown",
   "metadata": {
    "collapsed": true
   },
   "source": [
    "Part 3.2 Q&A:\n",
    "\n",
    "1. How did you decide how to choose increasing values of bit-error probability? Bearing in mind that your graph should have a logarithmic horizontal scale.  \n",
    "    -Bit-error grows steadily in logarithmic scale means that power of 10 shall grow steadily starting from -5 to -2 for 12 times, so I decide that bit-error rate 10^(i) is going to have linear growth from -5 to -2 in 12 steps.\n",
    "2. Comment on the effect of the bit-errors on the sound and how this changes as the bit-error probability increases.  \n",
    "    -Bit-error adds noises to original audio. As bit-error rate grows, noises start to appear more frequent and influence clearity of dialogue.\n",
    "3. Do the PESQ scores agree with your perception of the sound?  \n",
    "    -Yes. Generally, PESQ score will go down as bit-error rate goes up."
   ]
  },
  {
   "cell_type": "markdown",
   "metadata": {},
   "source": [
    "# Part 3.3-Effect ofincreasing bit-error probability on narrow-band speech with a (3,1) repetition FEC scheme\n"
   ]
  },
  {
   "cell_type": "code",
   "execution_count": null,
   "metadata": {
    "collapsed": true,
    "scrolled": true
   },
   "outputs": [],
   "source": [
    "! rm pesq_results.txt\n",
    "score_list_3 = []\n",
    "pos_list = []\n",
    "for i in range(0,13):\n",
    "    pos = 10**(-5+i/4.0)\n",
    "    y1 = utils.insert_bit_errors(raw,pos)\n",
    "    y2 = utils.insert_bit_errors(raw,pos)\n",
    "    y3 = utils.insert_bit_errors(raw,pos)\n",
    "    #res = (b2&(b1|b3))|(b1&b3) = (b1&b2)|(b1&b3)|(b2&b3)\n",
    "    res = np.bitwise_or(np.bitwise_and(y2,np.bitwise_or(y1,y3)),np.bitwise_and(y1,y3))\n",
    "    y_res = utils.bit_array_to_numpy_array(res,y_spe.dtype)\n",
    "    name = \"3_bit_error_prob=%.6f.wav\"%(pos)\n",
    "    wavfile.write(name, Fs_spe, y_res)\n",
    "    print name\n",
    "    utils.audio_from_file(name)\n",
    "    ! ./linux_pesqmain +8000 NarrobandSpeech8k.wav $name > /dev/null\n",
    "    pesq_results = get_pesq_scores()\n",
    "    score = pesq_results[\"NarrobandSpeech8k.wav\"] [name] \n",
    "    print \"PESQ score for possibility = %.6f:\"%(pos), score\n",
    "    print \"\"\n",
    "    score_list_3.append(score)\n",
    "    pos_list.append(pos)\n",
    "# print score_list\n",
    "# print pos_list\n",
    "fig, ax0 = pyplot.subplots(1)\n",
    "ax0.set_title(\"PESQ score against beP\")\n",
    "ax0.set_xlabel(\"Bit-error prob\") ; ax0.set_ylabel(\"PESQ Score\")\n",
    "ax0.plot(pos_list,score_list_3, color='green', label='voting')\n",
    "ax0.plot(pos_list,score_list_2, color='skyblue', label='no voting')\n",
    "ax0.set_xscale(\"log\")\n",
    "ax0.legend()\n",
    "ax0.grid(True, which='minor', axis='x')\n",
    "ax0.grid(True, which='major', axis='y')\n",
    "\n",
    "# plt.title('PESQ score against beP')\n",
    "# plt.plot(pos_list, score_list_3, color='green', label='voting')\n",
    "# plt.plot(pos_list, score_list_2, color='skyblue', label='autocracy')\n",
    "# plt.legend() # 显示图例\n",
    "\n",
    "# plt.xlabel('Bit-error prob'); plt.ylabel('PESQ Score')\n",
    "# plt.show()"
   ]
  },
  {
   "cell_type": "markdown",
   "metadata": {
    "collapsed": true
   },
   "source": [
    "Part 3.3 Q&A:\n",
    "    \n",
    "1. Demonstrate and comment on any improvement in the narrow-band speech quality that is obtained at the expense of the 3-fold increase in the bit-rate. How would you summarise the degree of improvement?  \n",
    "    -When bit-error rate < 10^(-3), improvement on narrow-band speech quality under 3-fold coding is obvious, I can hear almost no other sounds apart from dialogue and improvement in PESQ score is also considerable. For bit-rate larger than 10^(-3), noise gradually appear, yet audio quality is still better than that without processing under 3-fold. \n",
    "2. What is the effect of the 3-fold increase in bit-rate on the transmit power and on the energy required to transmit the speech segment?  \n",
    "    -Total bits in file remain unchanged and power per bit is stable, but as we are sending same information 3 times, energy required is also 3 times than before.\n",
    "3. If we reduce the energy per bit by a factor of 3, the transmit power becomes what it was before? Consider the example in Section 2.5 where Eb/N0 was 8.93 dB. It would now become 8.93–  10xlog10(3)=8.93-4.8 dB=4.3dB. From the msk waterfall graph above, the beP now becomes about 0.01. How well does the (3,1) rep coder work at beP=0.01?  \n",
    "    -It becomes 1/3 of previous energy. When beP=0.01, PESQ before 3-fold is 1.453, after is 1.878. Obviously it gives better result than that when 3-fold coder is not applied at all, yet there are still niticable noices, thus the result is unaccepted.\n",
    "4. What other method could be used to reduce the energy required to transmit the speech sentence without reducing the energy per bit? Think about previous Tasks.  \n",
    "    -We can reduce bit-rate(i.e. by resampling), number of bit per sample or apply Huffman coding."
   ]
  },
  {
   "cell_type": "markdown",
   "metadata": {},
   "source": [
    "# Part 3.4-Apply ARQ to a text message"
   ]
  },
  {
   "cell_type": "code",
   "execution_count": null,
   "metadata": {
    "collapsed": true,
    "scrolled": true
   },
   "outputs": [],
   "source": [
    "import operator\n",
    "def checkCRC8(xa) :  \n",
    "   # Generates 8-bit CRC check as 1x8 row-vector\n",
    "   # xa is array of bits expressed as a row-vector\n",
    "   # Generator polynomial is g(x) = x^8 + x^2 +x + 1\n",
    "    g8x = [1,0,0,0,0,0,1,1,1] ;  # Generator polynomial as row-vector\n",
    "    xae = np.append(xa, [0,0,0,0,0,0,0,0] );  # Append 8 zeros\n",
    "    xsa=xae[0:9] #Get 1st 9bits from 0 to 8\n",
    "    for i in range (0 , len(xa) ) : #loop for all the bits in original array\n",
    "        if xsa[0] == g8x[0]: #If 1st bit is a 1, perform xor\n",
    "            xsa = xsa ^ g8x  #result of xor\n",
    "        xsa[0:8] = xsa[1:9]  #Shift the result one place left\n",
    "        if ( i < len(xa)-1 ) : #Make sure we are not at end of xoring part of CRC algorithm (-1 because arrays start at 0)\n",
    "            xsa[8] = xae[ i + 9] #Pull the next bit of the array down and put it in right most bit of result\n",
    "    check = xsa[0:8] #Get reminder   \n",
    "    return check #return the CRC value\n",
    "\n",
    "raw = 'Smart-phones are mobile games consoles and mp3 players that you can also use for telephone calls.'\n",
    "bit_raw = utils.bytes_to_bit_array(raw)\n",
    "rem = checkCRC8(bit_raw)\n",
    "print 'original CRC:',rem\n",
    "bit_raw = np.append(bit_raw,rem)\n",
    "for i in range(0,13):\n",
    "    print ''\n",
    "    pos = 10**(-4+i/4.0)\n",
    "    print 'beP=%.5f'%(pos)\n",
    "    #transmit\n",
    "    for i in range(0,9):\n",
    "        alt = utils.insert_bit_errors(bit_raw,pos)\n",
    "        rlt = checkCRC8(alt)\n",
    "        print 'CRC after transmission:', rlt\n",
    "        print utils.bit_array_to_bytes(alt[0:len(alt)-8])\n",
    "        if(np.array_equal(rlt,[0,0,0,0,0,0,0,0])):\n",
    "            print 'success'\n",
    "            print ''\n",
    "            break\n",
    "        else:\n",
    "            print 'fail'"
   ]
  },
  {
   "cell_type": "markdown",
   "metadata": {
    "collapsed": true
   },
   "source": [
    "Part 3.4 Q&A:\n",
    "    \n",
    "1. If the CRC8 check succeeds, can we deduce that there are no bit-errors?   \n",
    "    -No. Any combination of bit-errors that ‘adds’ any ‘multiple’ of given CRC will not be detected.\n",
    "2. If the CRC8 check fails, can we deduce that there are some bit-errors?      \n",
    "    -Yes. When doing CRC, change of bits on dividend is likely to change reaminder, so if remainder changed after introducing bit-errors, it means that bit-errors must have occured.\n",
    "3. Explain how your results demonstrate the effect of evenly distributed bit-errors and ARQ with various values of bit-error probability.  \n",
    "    -For bit errors, we can see that throughout the growth of bit-error probability, wrong characters in result string always appear evenly across it and get more and more dense but not in clusters, thus are evenly distributed; for ARQ, it detects whether reaminder remains same as that before introducing bit-error, if they are different then a 'fail' is reported and we know ARQ is working.\n",
    "4. For what values of bit-error probability did the ARQ process fail completely?  \n",
    "    -When bit-error at 0.00562."
   ]
  },
  {
   "cell_type": "markdown",
   "metadata": {
    "collapsed": true
   },
   "source": [
    "# Part 3.5-Applying a modified form of ARQ to a text message"
   ]
  },
  {
   "cell_type": "code",
   "execution_count": null,
   "metadata": {
    "collapsed": true,
    "scrolled": true
   },
   "outputs": [],
   "source": [
    "for i in range(0,13):\n",
    "    pos = 10**(-4+i/4.0)\n",
    "    print 'beP=%.5f'%(pos)\n",
    "    #transmit\n",
    "    for j in range(0,3):\n",
    "        alt = utils.insert_bit_errors(bit_raw,pos)\n",
    "#         res=alt[0:len(alt)-8]\n",
    "        rlt = checkCRC8(alt)\n",
    "        print 'CRC after transmission:', rlt\n",
    "        print utils.bit_array_to_bytes(alt[0:len(alt)-8])\n",
    "        if(np.array_equal(rlt,[0,0,0,0,0,0,0,0])):\n",
    "            print 'success'\n",
    "            print ''\n",
    "            break\n",
    "        else:\n",
    "            print 'fail'\n",
    "            if j==0:\n",
    "                y1 = alt\n",
    "            elif j==1:\n",
    "                y2 = alt\n",
    "            else:\n",
    "                y3 = alt\n",
    "                #res = (b2&(b1|b3))|(b1&b3) = (b1&b2)|(b1&b3)|(b2&b3)\n",
    "                res = np.bitwise_or(np.bitwise_and(y2,np.bitwise_or(y1,y3)),np.bitwise_and(y1,y3))\n",
    "#                 fin = checkCRC8(np.append(res,[0,0,0,0,0,0,0,0]))\n",
    "                fin = checkCRC8(res)\n",
    "                print fin\n",
    "                if(np.array_equal(fin,[0,0,0,0,0,0,0,0])):\n",
    "                    print 'Voting success'\n",
    "                else:\n",
    "                    print 'Voting failed'\n",
    "                print 'Result of chase combining:',utils.bit_array_to_bytes(res[0:len(res)-8])\n",
    "    print''"
   ]
  },
  {
   "cell_type": "markdown",
   "metadata": {},
   "source": [
    "Part 3.5 Q&A:\n",
    "    \n",
    "1. What could the ARQ mechanism above do if a numerical or string array is received correctly but bit-errors have occurred in the CRC8 check-bits?  How often might this occur?   \n",
    "    -It will require a retransmission. It is likely to happen often because bit-errors tend to be evenly distributed.\n",
    "2. State whether you consider ARQ as used in Part 3.4 an efficient method, and explain the reasons for your answer.  \n",
    "    -No, because we haven't take advantage of previous failed trials, and for every time we tend to have a same probability of failing without improvement, thus the method is unefficient.\n",
    "3. Explain your mechanism for combining failed retransmissions.  \n",
    "    -I will store 3 failed retransmissions and execute a ‘majority voting’ procedure. For each bit in 3 wrong string, if no less than 2 of 3 version on that bit are the same, then I believe the majority result should be the one in final result. For implementation, if we represent 3 version of current bit as b1, b2, b3, then we get result bit by calculating (b1&b2)|(b1&b3)|(b2&b3).\n",
    "4. Demonstrate the effect of combining 3 failed transmissions.  \n",
    "    -Generally, the result of combination looks much closer to original string than 3 failed transmissions, which is the result in 3.4, yet when a voting needs to occur, errors in all 3 versions of array are all considerable, thus the final version is likely not to be same as original version. \n",
    "5. At what value of beP does the new ARQ process fail completely? Is there any improvement over what we got before?  \n",
    "    -At beP=0.03162, the new ARQ process is failing completely. There indeed are improvements, yet the result still has obvious errors.\n",
    "6. If combining failed transmissions turns out to be a good idea, why is it not used in practice, for example in wifi (you need to look this up).  \n",
    "    -With chase-combining we need to allocate extra space for multiple versions of received message(reference doc: ieee 802.11-18/1955r0). "
   ]
  }
 ],
 "metadata": {
  "kernelspec": {
   "display_name": "Python 2",
   "language": "python",
   "name": "python2"
  },
  "language_info": {
   "codemirror_mode": {
    "name": "ipython",
    "version": 2
   },
   "file_extension": ".py",
   "mimetype": "text/x-python",
   "name": "python",
   "nbconvert_exporter": "python",
   "pygments_lexer": "ipython2",
   "version": "2.7.13"
  }
 },
 "nbformat": 4,
 "nbformat_minor": 1
}
